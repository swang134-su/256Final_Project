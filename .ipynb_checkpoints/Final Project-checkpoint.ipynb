{
 "cells": [
  {
   "cell_type": "code",
   "execution_count": 3,
   "metadata": {},
   "outputs": [],
   "source": [
    "import csv\n",
    "import matplotlib\n",
    "import matplotlib.pyplot as plt\n",
    "import plotly \n",
    "import plotly.plotly as py     \n",
    "import plotly.graph_objs as go  \n",
    "import cufflinks as cf\n",
    "import pandas as pd\n",
    "import folium\n",
    "import warnings\n",
    "from IPython.display import display\n",
    "warnings.filterwarnings('ignore')"
   ]
  },
  {
   "cell_type": "code",
   "execution_count": 7,
   "metadata": {
    "scrolled": true
   },
   "outputs": [
    {
     "name": "stdout",
     "output_type": "stream",
     "text": [
      "What is your name Val\n",
      "How old are you? 20\n",
      "What is your biological gender? (F/M) F\n",
      "What is your weight? 60\n",
      "What measurement you used for weight? 'pound' or 'kg'? kg\n",
      "How tall are you in meter? 1.8\n",
      "What is your resting heart rate per min? 70\n",
      "What is your body temperature? 38\n",
      "What measurement you used for body temperature? 'C' or 'F'? C\n",
      "What is your blood sugar level in mg/dL? 90\n",
      "What is your body fat percentage? 20\n",
      "What is your cholesterol level in mg/dL? 300\n"
     ]
    }
   ],
   "source": [
    "#input\n",
    "profile = {}\n",
    "while True:\n",
    "    \n",
    "    try:\n",
    "\n",
    "        profile['name'] = input('What is your name ')\n",
    "        profile['age'] = int(input('How old are you? '))\n",
    "        profile['gender'] = input('What is your biological gender? (F/M) ')\n",
    "        weight = float(input('What is your weight? '))\n",
    "        weight_measure = input(\"What measurement you used for weight? 'pound' or 'kg'? \")\n",
    "        profile['height'] = float(input('How tall are you in meter? '))\n",
    "        profile['HrRate'] = input(\"What is your resting heart rate per min? \")\n",
    "        Tempt = float(input('What is your body temperature? '))\n",
    "        Tempt_measure = input(\"What measurement you used for body temperature? 'C' or 'F'? \")              \n",
    "        profile['BSugar'] = float(input('What is your blood sugar level in mg/dL? '))\n",
    "        profile['fat'] = float(input('What is your body fat percentage? '))\n",
    "        profile['cholesterol'] = float(input('What is your cholesterol level in mg/dL? '))\n",
    "        break\n",
    "        \n",
    "    except ValueError:\n",
    "        print('Please enter proper data') "
   ]
  },
  {
   "cell_type": "code",
   "execution_count": 8,
   "metadata": {},
   "outputs": [],
   "source": [
    "#measurement transfer\n",
    "if weight_measure == 'pound':\n",
    "    weight = weight / 2.205\n",
    "    profile['weight'] = round(weight,2)\n",
    "else:\n",
    "    profile['weight'] = weight \n",
    "if Tempt_measure == 'F':\n",
    "    Tempt = (32 * Tempt - 32)* 5/9\n",
    "    profile['Tempt'] = round(Tempt,2)\n",
    "\n",
    "profile['BMI'] = round(profile['weight'] / (profile['height'] * profile['height']),2)"
   ]
  },
  {
   "cell_type": "code",
   "execution_count": 9,
   "metadata": {},
   "outputs": [],
   "source": [
    "# lists \n",
    "\n",
    "dW_fat = [{'fat': 9  , 'result': 'Too low'},\n",
    "          {'fat': 13 , 'result': 'Essential fat'},\n",
    "          {'fat': 20 , 'result': 'Athletes'},\n",
    "          {'fat': 24 , 'result': 'Fitness'},\n",
    "          {'fat': 31 , 'result': 'Average'},\n",
    "          {'fat': 100 , 'result': 'Obese'}\n",
    "            ]\n",
    "dM_fat = [{'fat': 2  , 'result': 'Too low'},\n",
    "          {'fat': 5 , 'result': 'Essential fat'},\n",
    "          {'fat': 13 , 'result': 'Athletes'},\n",
    "          {'fat': 17 , 'result': 'Fitness'},\n",
    "          {'fat': 24 , 'result': 'Average'},\n",
    "          {'fat': 100 , 'result': 'Obese'}\n",
    "            ]\n",
    "d_BMI = [{'bmi': 18 , 'result': 'Underweight according to BMI'},\n",
    "         {'bmi': 24, 'result': 'Healthy according to BMI'},\n",
    "         {'bmi': 29, 'result': 'Overweight according to BMI'},\n",
    "         {'bmi': 39, 'result': 'Obese according to BMI'},\n",
    "         {'bmi': 54, 'result': 'Extreme Obesity according to BMI'}  \n",
    "]\n",
    "d_BSugar = [{'sugar': 69, 'result': 'low blood sugar'},\n",
    "            {'sugar': 100, 'result': 'normal blood sugar'},\n",
    "            {'sugar': 125, 'result': 'pre-diabetes'},\n",
    "            {'sugar': 200, 'result': 'diabetes'}\n",
    "]\n",
    "dA_cholesterol = [{'Acho': 199, 'result':'Good'},\n",
    "                  {'Acho': 239, 'result':'Borderline'},\n",
    "                  {'Acho': 500, 'result':'Your cholesterol level is high.' \n",
    "                                         'You should adopt a diet low in saturated fats and try to start eating more fruits, vegetables, whole grains, nuts, and seeds.'\n",
    "                                         'More physical activity(minimum of 150 minutes per week ) can also help maintain healthy body weight.'\n",
    "                                         'You should also limit your alcohol consumption to no more than 2 drinks a day to 1o drinks a week.'}\n",
    "]\n",
    "dC_cholesterol = [{'Ccho': 169, 'result':'Good'},\n",
    "                  {'Ccho': 199, 'result':'Borderline'},\n",
    "                  {'Ccho': 500, 'result':'Your cholesterol level is high.' \n",
    "                                         'You should adopt a diet low in saturated fats and try to start eating more fruits, vegetables, whole grains, nuts, and seeds.'\n",
    "                                         'More physical activity(minimum of 150 minutes per week ) can also help maintain healthy body weight.'\n",
    "                                         'You should also limit your alcohol consumption to no more than 2 drinks a day to 1o drinks a week.'}\n",
    "]"
   ]
  },
  {
   "cell_type": "code",
   "execution_count": 12,
   "metadata": {},
   "outputs": [
    {
     "name": "stdout",
     "output_type": "stream",
     "text": [
      "Healthy according to BMI\n",
      "Fitness\n",
      "Your cholesterol level is high.You should adopt a diet low in saturated fats and try to start eating more fruits, vegetables, whole grains, nuts, and seeds.More physical activity(minimum of 150 minutes per week ) can also help maintain healthy body weight.You should also limit your alcohol consumption to no more than 2 drinks a day to 1o drinks a week.\n",
      "normal blood sugar\n",
      "Your body temperature is normal.\n",
      "Congratulation! You resting heart rate is at normal standard. Keep up the good work.\n"
     ]
    }
   ],
   "source": [
    "#BMI\n",
    "\n",
    "for row in d_BMI:\n",
    "        if profile['BMI'] < row['bmi']:\n",
    "            print (row['result'])\n",
    "            profile['BMI result'] = row['result']\n",
    "            break\n",
    "# Body Fat\n",
    "\n",
    "if profile['gender'] == 'F':\n",
    "    for row in dW_fat:\n",
    "        if profile['fat'] < row['fat']:\n",
    "            print (row['result'])\n",
    "            profile['fat result'] = row['result']\n",
    "            break\n",
    "elif profile['gender'] == 'M':\n",
    "    for row in dM_fat:\n",
    "        if profile['fat'] < row['fat']:\n",
    "            print (row['result'])\n",
    "            profile['fat result'] = row['result']\n",
    "            break\n",
    "\n",
    "# Cholesterol\n",
    "\n",
    "if profile['age'] < 20:\n",
    "    for row in dC_cholesterol:\n",
    "        if profile['cholesterol'] < row['Ccho']:\n",
    "            print (row['result'])\n",
    "            profile['cholesterol result'] = row['result']\n",
    "            break\n",
    "elif profile['age'] > 19 :\n",
    "    for row in dA_cholesterol:\n",
    "        if profile['cholesterol'] < row['Acho']:\n",
    "            print (row['result'])\n",
    "            profile['cholesterol result'] = row['result']\n",
    "            break\n",
    "            \n",
    "# Blood Sugar\n",
    "\n",
    "for row in d_BSugar:\n",
    "        if profile['BSugar'] < row['sugar']:\n",
    "            print (row['result'])\n",
    "            profile['Blood sugar result'] = row['result']\n",
    "            break    \n",
    "\n",
    "# Body Tempt\n",
    "\n",
    "if Tempt_measure == 'F':\n",
    "    Tempt = (Tempt - 32)* 5/9\n",
    "    profile['Tempt'] = round(Tempt,2)    \n",
    "else:\n",
    "    profile['Tempt'] = Tempt\n",
    "\n",
    "if profile['Tempt'] > 38:\n",
    "    print ('You might have a fever caused by infection or illness. Double check if more symptoms show up.'\n",
    "            'Resting and keeping hydrated are important for your recovery  ')\n",
    "elif 37.2 < profile['Tempt'] < 38:\n",
    "    print ('You have early symptom of fever. Double check your temperature later.')\n",
    "elif profile['Tempt'] < 36.1:\n",
    "    print('You might have hypothermia. If you are having weak pulse and shallow breathing, please call 911.')\n",
    "else:\n",
    "    print('Your body temperature is normal.')\n",
    "    \n",
    "# Heart Rate \n",
    "    \n",
    "if int(profile['HrRate']) > 100:\n",
    "    print ('Your resting heart rate is higher than normal range.'\n",
    "            'We will suggest you to exercise more. Exercising every day gradually slows the resting heart rate. You can try biking and swimming.'\n",
    "            'Reduce stress is another good way. Performing meditation, tai chi, and other stress-busting techniques lowers the resting heart rate over time.')\n",
    "elif int(profile['HrRate']) < 60:\n",
    "    print ('Be awear of bradycardia.' \n",
    "            'One of the biggest concerns of bradycardia is a condition called syncope.'\n",
    "            'It means a loss of consciousness (fainting), usually due to insufficient blood flow to the brain.'\n",
    "            'A low heart rate can compromise your circulation.'\n",
    "            \"Don't panic if you are a athlete in top cardiovascular health\")\n",
    "else:\n",
    "    print ('Congratulation! You resting heart rate is at normal standard. Keep up the good work.')"
   ]
  },
  {
   "cell_type": "code",
   "execution_count": 13,
   "metadata": {},
   "outputs": [
    {
     "name": "stdout",
     "output_type": "stream",
     "text": [
      "{'name': 'Val', 'age': 20, 'gender': 'F', 'height': 1.8, 'HrRate': '70', 'BSugar': 90.0, 'fat': 20.0, 'cholesterol': 300.0, 'weight': 60.0, 'BMI': 18.52, 'BMI result': 'Healthy according to BMI', 'fat result': 'Fitness', 'cholesterol result': 'Your cholesterol level is high.You should adopt a diet low in saturated fats and try to start eating more fruits, vegetables, whole grains, nuts, and seeds.More physical activity(minimum of 150 minutes per week ) can also help maintain healthy body weight.You should also limit your alcohol consumption to no more than 2 drinks a day to 1o drinks a week.', 'Blood sugar result': 'normal blood sugar', 'Tempt': 38.0}\n"
     ]
    }
   ],
   "source": [
    "print(profile)"
   ]
  },
  {
   "cell_type": "code",
   "execution_count": 14,
   "metadata": {},
   "outputs": [],
   "source": [
    "#how to put name at begining \n",
    "profiles_df = pd.read_csv('profiles.csv') \n",
    "profile_df = pd.DataFrame([profile])\n",
    "\n",
    "profiles_df = profiles_df.append(profile_df)\n",
    "profiles_df.to_csv('profiles.csv', index = False)\n",
    "\n"
   ]
  },
  {
   "cell_type": "code",
   "execution_count": 15,
   "metadata": {},
   "outputs": [],
   "source": [
    "def draw(indicator, table, xlabel):\n",
    "    data = []\n",
    "    floor = 0\n",
    "    for row in table:\n",
    "        trace = go.Bar(\n",
    "            x=[xlabel],\n",
    "            y=[row[list(row.keys())[0]] - floor],\n",
    "            name= row['result']\n",
    "        )\n",
    "        data.append(trace)\n",
    "        floor = row[list(row.keys())[0]]\n",
    "    traceme = go.Scatter(\n",
    "            x = [xlabel],\n",
    "            y=[indicator],\n",
    "            mode = 'lines+markers',\n",
    "            line = { 'width' : 5},\n",
    "            name='You'\n",
    "    )\n",
    "    data.append(traceme)\n",
    "    layout = go.Layout(\n",
    "        barmode='stack'\n",
    "    )\n",
    "    fig = go.Figure(data=data, layout=layout)\n",
    "    display(py.iplot(fig, filename='stacked-bar'))"
   ]
  },
  {
   "cell_type": "code",
   "execution_count": null,
   "metadata": {},
   "outputs": [],
   "source": [
    "# Charts"
   ]
  },
  {
   "cell_type": "code",
   "execution_count": 16,
   "metadata": {},
   "outputs": [
    {
     "name": "stdout",
     "output_type": "stream",
     "text": [
      "High five! You successfully sent some data to your account on plotly. View your plot in your browser at https://plot.ly/~swang134/0 or inside your plot.ly account where it is named 'stacked-bar'\n"
     ]
    },
    {
     "data": {
      "text/html": [
       "<iframe id=\"igraph\" scrolling=\"no\" style=\"border:none;\" seamless=\"seamless\" src=\"https://plot.ly/~swang134/0.embed\" height=\"525px\" width=\"100%\"></iframe>"
      ],
      "text/plain": [
       "<plotly.tools.PlotlyDisplay object>"
      ]
     },
     "metadata": {},
     "output_type": "display_data"
    }
   ],
   "source": [
    "if profile['gender'] == 'F':\n",
    "    draw(profile['fat'], dW_fat, \"Women's Body Fat Level\")\n",
    "else:\n",
    "    draw(profile['fat'], dM_fat, \"Men's Body Fat Level\")"
   ]
  },
  {
   "cell_type": "code",
   "execution_count": 17,
   "metadata": {},
   "outputs": [
    {
     "name": "stdout",
     "output_type": "stream",
     "text": [
      "High five! You successfully sent some data to your account on plotly. View your plot in your browser at https://plot.ly/~swang134/0 or inside your plot.ly account where it is named 'stacked-bar'\n"
     ]
    },
    {
     "data": {
      "text/html": [
       "<iframe id=\"igraph\" scrolling=\"no\" style=\"border:none;\" seamless=\"seamless\" src=\"https://plot.ly/~swang134/0.embed\" height=\"525px\" width=\"100%\"></iframe>"
      ],
      "text/plain": [
       "<plotly.tools.PlotlyDisplay object>"
      ]
     },
     "metadata": {},
     "output_type": "display_data"
    }
   ],
   "source": [
    "draw(profile['BMI'], d_BMI, \"BMI Index\")"
   ]
  },
  {
   "cell_type": "code",
   "execution_count": 11,
   "metadata": {},
   "outputs": [
    {
     "name": "stdout",
     "output_type": "stream",
     "text": [
      "High five! You successfully sent some data to your account on plotly. View your plot in your browser at https://plot.ly/~swang134/0 or inside your plot.ly account where it is named 'stacked-bar'\n"
     ]
    },
    {
     "data": {
      "text/html": [
       "<iframe id=\"igraph\" scrolling=\"no\" style=\"border:none;\" seamless=\"seamless\" src=\"https://plot.ly/~swang134/0.embed\" height=\"525px\" width=\"100%\"></iframe>"
      ],
      "text/plain": [
       "<plotly.tools.PlotlyDisplay object>"
      ]
     },
     "metadata": {},
     "output_type": "display_data"
    }
   ],
   "source": [
    "draw(profile['BSugar'], d_BSugar, \"Blood Sugar Level\")"
   ]
  },
  {
   "cell_type": "code",
   "execution_count": 18,
   "metadata": {},
   "outputs": [
    {
     "name": "stdout",
     "output_type": "stream",
     "text": [
      "High five! You successfully sent some data to your account on plotly. View your plot in your browser at https://plot.ly/~swang134/0 or inside your plot.ly account where it is named 'stacked-bar'\n"
     ]
    },
    {
     "data": {
      "text/html": [
       "<iframe id=\"igraph\" scrolling=\"no\" style=\"border:none;\" seamless=\"seamless\" src=\"https://plot.ly/~swang134/0.embed\" height=\"525px\" width=\"100%\"></iframe>"
      ],
      "text/plain": [
       "<plotly.tools.PlotlyDisplay object>"
      ]
     },
     "metadata": {},
     "output_type": "display_data"
    }
   ],
   "source": [
    "if profile['age'] > 20: \n",
    "    draw(profile['cholesterol'], dA_cholesterol, \"Adults' Cholesterol Level\")\n",
    "else:\n",
    "    draw(profile['cholesterol'], dC_cholesterol, \"Children's Cholesterol Level\")"
   ]
  },
  {
   "cell_type": "code",
   "execution_count": null,
   "metadata": {},
   "outputs": [],
   "source": []
  },
  {
   "cell_type": "code",
   "execution_count": null,
   "metadata": {},
   "outputs": [],
   "source": []
  }
 ],
 "metadata": {
  "anaconda-cloud": {},
  "kernelspec": {
   "display_name": "Python 3",
   "language": "python",
   "name": "python3"
  },
  "language_info": {
   "codemirror_mode": {
    "name": "ipython",
    "version": 3
   },
   "file_extension": ".py",
   "mimetype": "text/x-python",
   "name": "python",
   "nbconvert_exporter": "python",
   "pygments_lexer": "ipython3",
   "version": "3.6.6"
  }
 },
 "nbformat": 4,
 "nbformat_minor": 1
}
