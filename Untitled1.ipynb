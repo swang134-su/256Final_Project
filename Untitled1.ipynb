{
 "cells": [
  {
   "cell_type": "code",
   "execution_count": 5,
   "metadata": {},
   "outputs": [],
   "source": [
    "from googlesearch import search"
   ]
  },
  {
   "cell_type": "code",
   "execution_count": 11,
   "metadata": {},
   "outputs": [
    {
     "name": "stdout",
     "output_type": "stream",
     "text": [
      "https://www.tripadvisor.com/Restaurants-g48713-c11-Syracuse_Finger_Lakes_New_York.html\n",
      "https://www.yelp.com/search?cflt=chinese&find_loc=Syracuse%2C+NY\n",
      "https://www.yelp.com/search?find_desc=Chinese+Food&find_loc=Syracuse%2C+NY\n",
      "https://www.syracuse.com/restaurants/index.ssf/2018/08/3_cny_chinese_restaurants_rank_among_upstate_nys_best.html\n",
      "https://www.syracuse.com/best-of-cny/index.ssf/2016/11/syracuses_best_chinese_food.html\n",
      "https://www.grubhub.com/delivery/ny-syracuse/chinese\n",
      "http://pandawestsyracuse.com/\n",
      "https://threebestrated.com/chinese-restaurants-in-syracuse-ny\n",
      "http://www.livablecny.com/throwdown-best-chinese-food-in-syracuse/\n",
      "https://www.empirebuffetdewitt.com/\n",
      "https://www.eat24.com/restaurants/ny-syracuse/chinese\n",
      "https://www.eastwokrestaurant.com/\n",
      "https://www.redchilisyracuse.com/\n",
      "https://www.allmenus.com/ny/syracuse/256046-beijing-chinese-restaurant/menu/\n",
      "http://eatchinahouse.com/locations-2/\n",
      "https://www.chinaroadsyracuse.com/\n",
      "https://www.doordash.com/food-delivery/syracuse-ny-restaurants/chinese/\n",
      "https://foursquare.com/v/fuji-chinese-buffet/4b36a2f9f964a520a13925e3\n",
      "https://www.greatfortunesyracuse.com/\n",
      "https://nextdoor.com/category/chinese-restaurant/syracuse--ny/\n",
      "http://www.mingoldkitchen.com/\n",
      "https://www.yellowpages.com/syracuse-ny/chinese-restaurants\n",
      "https://www.handkchinese.com/\n",
      "http://www.chinapavilioncny.com/contact.htm\n",
      "http://www.redchilirestaurant.com/\n",
      "https://www.seamless.com/menu/panda-west-chinese-restaurant-135-marshall-st-syracuse/347767\n",
      "http://www.leesplacesyracuse.com/\n",
      "https://www.no1kitchensyracuse.com/\n",
      "https://number1kitchensyracuseny.com/\n",
      "https://www.pfchangs.com/locations/us/ny/syracuse/306-hiawatha-blvd-w/9881-syracuse.html\n",
      "http://www.redchilisyracuseny.com/\n",
      "https://www.chinawoknorthsyracuse.com/\n",
      "https://www.tripadvisor.co.nz/Restaurants-g37567-c11-Syracuse_Indiana.html\n",
      "https://www.syracuseasianpalace.com/\n",
      "https://eatstreet.com/syracuse-ny/cuisines/chinese-food-delivery-takeout\n",
      "https://www.facebook.com/pages/New-Long-Cheng/111800465522830\n",
      "https://www.syracusechinacafe.com/\n",
      "http://asianwoksyracuse.net/\n",
      "http://places.singleplatform.com/spring-chinese-restaurant-2/menu\n",
      "http://www.zhoussyracuse.com/\n",
      "http://www.bamboohousesyracuse.com/\n",
      "https://www.newyorkupstate.com/expo/life-and-culture/erry-2018/08/fb83532235875/best-chinese-upstate-ny.html\n",
      "https://www.changjiangsyracuse.com/\n",
      "https://menupages.com/hk-take-out-chinese-food/1640-erie-blvd-e-syracuse\n",
      "http://newhouseinsider.syr.edu/2017/10/where-to-find-the-best-chinese-food-in-syracuse/\n",
      "http://www.kingschefliverpool.com/\n",
      "https://postmates.com/merchant/panda-west-chinese-restaurant-syracuse\n",
      "https://www.zomato.com/syracuse-ny/syracuse-restaurants/chinese\n",
      "https://www.zomato.com/syracuse-ny/china-chen-cicero/menu\n",
      "https://www.fivestars.com/biz/ny/syracuse/restaurant/spring-chinese-restaurant/12539995/\n",
      "https://www.manta.com/mb_55_C432C02V_ERB/chinese_restaurant/syracuse_ny\n",
      "https://www.no1kitchenmanlius.com/\n",
      "https://www.groupon.com/biz/syracuse/east-wok-chinese-restaurant\n",
      "https://www.beyondmenu.com/20586/syracuse/east-wok-chinese-restaurant-syracuse-13206/info.aspx\n",
      "https://www.tripadvisor.ca/Restaurant_Review-g48713-d421860-Reviews-H_K_Chinese_Restaurant-Syracuse_Finger_Lakes_New_York.html\n",
      "https://www.foodnetwork.com/restaurants/ny/syracuse/red-chili-restaurant\n",
      "https://www.localflavor.com/new-ling-ling-chinese-buffet\n",
      "https://www.opentable.com/r/new-china-restaurant-syracuse?lang=en\n",
      "http://www.appethaizing.com/\n",
      "https://www.tripadvisor.com.au/Restaurant_Review-g48713-d421860-Reviews-H_K_Chinese_Restaurant-Syracuse_Finger_Lakes_New_York.html\n",
      "http://syracusezhousrestaurant.com/\n",
      "https://www.pinterest.com/pin/114841859230851506/\n",
      "http://315-685-0888.chinesemenu.com/reviews.html\n",
      "https://www.theringer.com/2018/12/18/18145986/chinese-restaurant-workers-feature\n",
      "https://en.wikipedia.org/wiki/Syracuse_China\n",
      "http://www.waymarking.com/waymarks/WMF8BN_China_Star_Restaurant_Syracuse_IN\n",
      "http://asiafoodmkt.com/\n",
      "http://www.imperialasianut.com/menu.aspx\n",
      "https://www.zmenu.com/chengtu-east-syracuse-online-menu/\n",
      "https://www.tripadvisor.com/Restaurant_Review-g48713-d3385856-Reviews-Empire_Buffet-Syracuse_Finger_Lakes_New_York.html\n",
      "https://www.tripadvisor.com/Restaurant_Review-g48713-d4662062-Reviews-New_Ling_Ling_Chinese_Buffet-Syracuse_Finger_Lakes_New_York.html\n",
      "https://www.npr.org/templates/story/story.php?storyId=17599785\n",
      "http://chinese-restaurants.find-near-me.info/in/tully-ny\n",
      "http://www.chinaroadny.com/index.php?main_page=index&cPath=14\n",
      "https://www.local.com/business/details/syracuse-ne/samui-thai-%26-chinese-restaurant-147195461/listing.cfm?ar=Syracuse%2C+NE&s=laos+thai+restaurant&gsp=WUxzRUgzVEZVaFBmMUR5b2F6aTk1Vk9MNTgzanpBS1NpYXY2NmpFa3VPdzlDMS82SFhzZGkyQjhuY2dPL0xScHNaSFZHeEZ4UDFWb3RYMFphSG5RazE4UXFJWFB5cDV0UjNTTUJ3TXo3UzVHMU55aUttTVNkTEt5QVZzV2pQT3ptM0Z4Y3dWZnU1d2Z4YitZWXYzSUJDR2tRQ095Y0oxVmRJSE12a01kS09BbXdNTWZKd1NqRWR6SURNT1lvR1AyNEQwSmhiNG9QMkQ3OHhYMFM0bnhHYlY0elByVXNNbmdwYWRlcDJMa0NPaFFKY3ViRWQ3OFlMcXpRRjBIb0NTU1VnNzhldTJWZ0dYR3hHbzJMWTBiMzdGcHA1Q0VyQTl2UStIOGlpdStsa0grNGExSWFzVXFvcmxIaXJsUmFQVGExejJvWEI5TTlncmltZnI4MVNCbXFnSGUrSmlwL2trWC9lU0NlN2hoQ0ptczg1YW1uSkk0cmUrK3c3ZzZMcVBGb3pvOUN2SnhKQ3VJQjkyYXJieHNyRlVGa1AydkgxNytXeGp1N2VaK0krWT0%3D&localid=147195461\n",
      "https://moovitapp.com/index/en/public_transit-Mingold_Chinese_Food-SyracuseUtica_NY-site_31233546-3470\n",
      "https://www.menupix.com/syracuse/restaurants/380194387/Happy-Wok-Minoa-NY\n",
      "https://www.linkedin.com/jobs/view/bartender-at-p-f-chang-s-china-bistro-inc-1051283134\n",
      "https://restaurantguru.com/China-Star-Syracuse-Indiana\n",
      "https://www.smithrestaurantsupply.com/\n",
      "http://www.syracusetangflavor.com/index.php?main_page=conditions\n",
      "https://www.ebay.com/b/Syracuse-Western-In-Restaurant-Ware-China-Dinnerware/7293/bn_7022223689\n",
      "https://www.friendlys.com/\n",
      "http://www.ichibanjapanesesteakhouse.com/\n",
      "http://foodio54.com/restaurant/Syracuse-NY/e569e/Spring-Chinese-Restaurant\n",
      "https://www.reddit.com/r/Syracuse/comments/7gqou5/fried_chicken_in_cuse/\n",
      "https://whatsupmag.com/home-and-garden/antiques-syracuse-china/\n",
      "https://www.etsy.com/listing/598062314/vintage-creamer-syracuse-china\n",
      "https://www.indeed.com/q-Express-l-Syracuse,-NY-jobs.html\n",
      "https://www.pandaexpress.com/userlocation\n",
      "https://www.collectorsweekly.com/china-and-dinnerware/restaurant-ware\n",
      "https://www.superpages.com/bp/syracuse-ny/big-bowl-inc-L2148489689.htm\n",
      "http://www.oldcountrybuffet.com/\n",
      "http://cnycentral.com/news/local/two-dozen-area-restaurants-have-unsatisfactory-inspections-for-the-week-of-622-628\n",
      "https://www.webstaurantstore.com/44999/colored-rim-china-dinnerware.html\n",
      "https://www.thecheesecakefactory.com/menu/\n",
      "https://www.ubereats.com/en-US/\n"
     ]
    }
   ],
   "source": [
    "for url in search('\"Chinese resturant in syracuse', stop=100):\n",
    "            print(url)"
   ]
  },
  {
   "cell_type": "code",
   "execution_count": 10,
   "metadata": {},
   "outputs": [],
   "source": [
    "import csv"
   ]
  },
  {
   "cell_type": "code",
   "execution_count": 9,
   "metadata": {},
   "outputs": [
    {
     "ename": "NameError",
     "evalue": "name 'write' is not defined",
     "output_type": "error",
     "traceback": [
      "\u001b[0;31m---------------------------------------------------------------------------\u001b[0m",
      "\u001b[0;31mNameError\u001b[0m                                 Traceback (most recent call last)",
      "\u001b[0;32m<ipython-input-9-3be919a12ea7>\u001b[0m in \u001b[0;36m<module>\u001b[0;34m\u001b[0m\n\u001b[0;32m----> 1\u001b[0;31m \u001b[0mdir\u001b[0m\u001b[0;34m(\u001b[0m\u001b[0mwrite\u001b[0m\u001b[0;34m.\u001b[0m\u001b[0mcsv\u001b[0m\u001b[0;34m)\u001b[0m\u001b[0;34m\u001b[0m\u001b[0;34m\u001b[0m\u001b[0m\n\u001b[0m",
      "\u001b[0;31mNameError\u001b[0m: name 'write' is not defined"
     ]
    }
   ],
   "source": [
    "filename = \"Resturant Database.csv\"\n",
    "\n",
    "with open (\"Resturant Database.csv\", 'w') as csv.file:\n",
    "    filednames = ['Cuisine Type', 'Location', 'URL', \"If Resturant\"]\n",
    "    writer = csv.DictWriter(csv_file, fieldnames=fieldnames)\n",
    "    \n",
    "    writer.writeheader()\n",
    "    writer.row\n"
   ]
  }
 ],
 "metadata": {
  "kernelspec": {
   "display_name": "Python 3",
   "language": "python",
   "name": "python3"
  },
  "language_info": {
   "codemirror_mode": {
    "name": "ipython",
    "version": 3
   },
   "file_extension": ".py",
   "mimetype": "text/x-python",
   "name": "python",
   "nbconvert_exporter": "python",
   "pygments_lexer": "ipython3",
   "version": "3.7.1"
  }
 },
 "nbformat": 4,
 "nbformat_minor": 2
}
